{
 "cells": [
  {
   "cell_type": "markdown",
   "metadata": {},
   "source": [
    "# November 2023 General Election Mayoral Analysis"
   ]
  },
  {
   "cell_type": "markdown",
   "metadata": {},
   "source": [
    "Analysis of the November 2023 results for the Bellingham mayoral race in Whatcom County between Seth Fleetwood and Kim Lund"
   ]
  },
  {
   "cell_type": "markdown",
   "metadata": {},
   "source": [
    "## Data Prep Instructions\n",
    "This procedure is for background only.  Data files in repo have already been prepped\n",
    "\n",
    "1. Get shape files of Precincts from Whatcom County https://documents.co.whatcom.wa.us/WebLink/Browse.aspx?id=2951672&dbid=100&repo=WC\n",
    "\n",
    "2. Convert shape zip file to geojson using mapshaper.org\n",
    "\n",
    "* Drag and drop shape zip onto mapshaper site\n",
    "* Open Console and type mapshaper -proj wg84 to convert coordinates to lat/long\n",
    "* Export to geojson\n",
    "\n",
    "    Note this json file does not have id tag which is needed to link Precinct to external csv file. Workaroun is to use parameter 'featureidkey' to explicitly specify id\n",
    "\n",
    "3. Download the election results from the Whatcom County.  https://results.vote.wa.gov/results/20231107/whatcom/precincts-126112.html\n",
    "   \n",
    "5. Import csv and json data to the repo"
   ]
  },
  {
   "cell_type": "code",
   "execution_count": null,
   "metadata": {},
   "outputs": [],
   "source": [
    "mayor_voter_results_by_precinct = './data/general/20231107_whatcom_126112-precincts.csv'\n",
    "mayor_voter_results_by_precinct_processed = './data/general/20231107_whatcom_126112-precincts-processed.csv'\n",
    "geo_json_precinct_file = './data/precinct_map/April2023_Precinct_Splits_wgs84.json' # File path to the GeoJSON file"
   ]
  },
  {
   "cell_type": "markdown",
   "metadata": {},
   "source": [
    "## Import Raw Election Results"
   ]
  },
  {
   "cell_type": "code",
   "execution_count": null,
   "metadata": {},
   "outputs": [],
   "source": [
    "import pandas as pd\n",
    "\n",
    "df_votes_by_precinct = pd.read_csv(mayor_voter_results_by_precinct, skiprows=1)\n",
    "\n",
    "#Remove the totals in row 1\n",
    "df_votes_by_precinct = df_votes_by_precinct.drop(0)\n",
    "\n",
    "#Add precinct name to first column\n",
    "df_votes_by_precinct.rename(columns={'Unnamed: 0': 'Precinct'}, inplace=True)\n",
    "\n",
    "#Convert precinct column from object to integer\n",
    "df_votes_by_precinct['Precinct'] = pd.to_numeric(df_votes_by_precinct['Precinct'], errors='coerce').fillna(0).astype(int)\n",
    "\n",
    "#Add precinct totals column\n",
    "df_votes_by_precinct['Totals By Precinct'] = df_votes_by_precinct.iloc[:, 1:].sum(axis=1)\n",
    "\n",
    "df_votes_by_precinct.dtypes\n",
    "df_votes_by_precinct"
   ]
  },
  {
   "cell_type": "markdown",
   "metadata": {},
   "source": [
    "## Add Calculated Columns to Results"
   ]
  },
  {
   "cell_type": "markdown",
   "metadata": {},
   "source": [
    "The Outcome column considers a difference of more than "
   ]
  },
  {
   "cell_type": "code",
   "execution_count": null,
   "metadata": {},
   "outputs": [],
   "source": [
    "df_votes_by_precinct['Percent Seth Votes'] = (df_votes_by_precinct['Seth Fleetwood'] / df_votes_by_precinct['Totals By Precinct']) * 100\n",
    "df_votes_by_precinct['Percent Kim Votes'] = (df_votes_by_precinct['Kim Lund'] / df_votes_by_precinct['Totals By Precinct']) * 100\n",
    "\n",
    "df_votes_by_precinct['Percent Kim-Seth'] = ((df_votes_by_precinct['Kim Lund'] - df_votes_by_precinct['Seth Fleetwood'])/ df_votes_by_precinct['Totals By Precinct']) * 100\n",
    "\n",
    "df_votes_by_precinct['Outcome'] = pd.cut(df_votes_by_precinct['Percent Kim-Seth'], bins=[-100, -0.5, 0.5, 100], labels=['Seth', 'Neutral', 'Kim'])\n",
    "\n",
    "df_votes_by_precinct.to_csv(mayor_voter_results_by_precinct_processed)\n",
    "\n",
    "df_votes_by_precinct\n",
    "#df_votes_by_precinct.dtypes"
   ]
  },
  {
   "cell_type": "markdown",
   "metadata": {},
   "source": [
    "## Read in Geo JSON Precinct data"
   ]
  },
  {
   "cell_type": "code",
   "execution_count": null,
   "metadata": {},
   "outputs": [],
   "source": [
    "import json\n",
    "\n",
    "# Reading the JSON file\n",
    "with open(geo_json_precinct_file, 'r') as file:\n",
    "    precinct_data = json.load(file)\n",
    "\n",
    "# Displaying the JSON data features dictionary for each precinct\n",
    "#print(precinct_data)\n",
    "#precinct_data[\"features\"][0]\n",
    "\n",
    "# Within features is a properties dictionary which contains the precinct id\n",
    "#print(precinct_data[\"features\"][0][\"properties\"])"
   ]
  },
  {
   "cell_type": "markdown",
   "metadata": {},
   "source": [
    "## Summary Statistics"
   ]
  },
  {
   "cell_type": "code",
   "execution_count": null,
   "metadata": {},
   "outputs": [],
   "source": [
    "# Calculating the total votes for each candidate and overall percentages\n",
    "total_votes_seth = df_votes_by_precinct['Seth Fleetwood'].sum()\n",
    "total_votes_kim = df_votes_by_precinct['Kim Lund'].sum()\n",
    "total_votes = df_votes_by_precinct['Totals By Precinct'].sum()\n",
    "\n",
    "percent_votes_seth = (total_votes_seth / total_votes) * 100\n",
    "percent_votes_kim = (total_votes_kim / total_votes) * 100\n",
    "percent_difference = percent_votes_kim - percent_votes_seth\n",
    "\n",
    "# Determining the overall winner\n",
    "winner = \"Seth Fleetwood\" if total_votes_seth > total_votes_kim else \"Kim Lund\"\n",
    "\n",
    "# Counting the number of precincts won by each candidate\n",
    "precincts_won = df_votes_by_precinct['Outcome'].value_counts()\n",
    "print(precincts_won)\n",
    "\n",
    "election_summary_stats_seth = {\n",
    "    'Total Votes': total_votes_seth,\n",
    "    'Percentage': \"{:.2f}\".format(percent_votes_seth),  # Formats the percentage to two decimal places\n",
    "    'Precincts Won': precincts_won['Seth'],\n",
    "    'Org Endorsements': 8 #https://sethfleetwood.com/endorsements/\n",
    "}\n",
    "\n",
    "print(election_summary_stats_seth)\n",
    "\n",
    "election_summary_stats_kim = {\n",
    "    'Total Votes': total_votes_kim,\n",
    "    'Percentage': \"{:.2f}\".format(percent_votes_kim),  # Formats the percentage to two decimal places\n",
    "    'Precincts Won': precincts_won['Kim'],\n",
    "    'Org Endorsements': 19  #https://electkimlund.com/endorsements/\n",
    "}\n",
    "\n",
    "print(election_summary_stats_kim)\n",
    "print(election_summary_stats_seth)\n",
    "\n",
    "total_votes_seth, total_votes_kim, percent_votes_seth, percent_votes_kim, percent_difference, winner"
   ]
  },
  {
   "cell_type": "code",
   "execution_count": null,
   "metadata": {},
   "outputs": [],
   "source": [
    "# Counting the number of precincts won by each candidate\n",
    "precincts_won = df_votes_by_precinct['Outcome'].value_counts()\n",
    "precincts_won"
   ]
  },
  {
   "cell_type": "markdown",
   "metadata": {},
   "source": [
    "## Visualize integrated precinct data\n",
    "Use plotly for interactive visualization.  This graph below is good for familairinzing with the precincts and generating turf maps for door-belling.  Use mouse to zoom and pan"
   ]
  },
  {
   "cell_type": "code",
   "execution_count": null,
   "metadata": {},
   "outputs": [],
   "source": [
    "import plotly.express as px\n",
    "\n",
    "# Create the choropleth map\n",
    "fig = px.choropleth_mapbox(df_votes_by_precinct, geojson=precinct_data, color=None,\n",
    "                           locations=\"Precinct\", featureidkey=\"properties.Precinct\",\n",
    "                           labels=\"Precinct\",\n",
    "                           center={\"lat\": 48.7519, \"lon\": -122.4787},\n",
    "                           mapbox_style=\"carto-positron\", zoom=10, opacity=0.1)\n",
    "\n",
    "# Adjust the marker properties for boundaries\n",
    "for trace in fig.data:\n",
    "    trace.marker.line.width = 6\n",
    "    trace.marker.line.color = 'red'\n",
    "\n",
    "# Update layout\n",
    "fig.update_layout(width=1200, height=900)  # Adjust to your preference\n",
    "fig.update_layout(margin={\"r\":0,\"t\":0,\"l\":0,\"b\":0})\n",
    "fig.show()"
   ]
  },
  {
   "cell_type": "markdown",
   "metadata": {},
   "source": [
    "### Visualize Kim Lund Primary Raw Vote Results"
   ]
  },
  {
   "cell_type": "code",
   "execution_count": null,
   "metadata": {},
   "outputs": [],
   "source": [
    "fig = px.choropleth_mapbox(df_votes_by_precinct, geojson=precinct_data, color=\"Kim Lund\",\n",
    "                           locations=\"Precinct\", featureidkey=\"properties.Precinct\",\n",
    "                           center={\"lat\": 48.7519, \"lon\": -122.4787},\n",
    "                           mapbox_style=\"carto-positron\", zoom=10)\n",
    "\n",
    "fig.update_layout(margin={\"r\":0,\"t\":0,\"l\":0,\"b\":0})\n",
    "fig.show()"
   ]
  },
  {
   "cell_type": "markdown",
   "metadata": {
    "vscode": {
     "languageId": "plaintext"
    }
   },
   "source": [
    "### Visualize Seth Fleetwood Primary Raw Vote Results"
   ]
  },
  {
   "cell_type": "code",
   "execution_count": null,
   "metadata": {},
   "outputs": [],
   "source": [
    "fig = px.choropleth_mapbox(df_votes_by_precinct, geojson=precinct_data, color=\"Seth Fleetwood\",\n",
    "                           locations=\"Precinct\", featureidkey=\"properties.Precinct\",\n",
    "                           center={\"lat\": 48.7519, \"lon\": -122.4787},\n",
    "                           mapbox_style=\"carto-positron\", zoom=10)\n",
    "\n",
    "fig.update_layout(margin={\"r\":0,\"t\":0,\"l\":0,\"b\":0})\n",
    "fig.show()"
   ]
  },
  {
   "cell_type": "markdown",
   "metadata": {},
   "source": [
    "### Plot Seth Percent Vote of Total Precinct"
   ]
  },
  {
   "cell_type": "code",
   "execution_count": null,
   "metadata": {},
   "outputs": [],
   "source": [
    "fig = px.choropleth_mapbox(df_votes_by_precinct, geojson=precinct_data, color=\"Percent Seth Votes\",\n",
    "                           locations=\"Precinct\", featureidkey=\"properties.Precinct\",\n",
    "                           center={\"lat\": 48.7519, \"lon\": -122.4787},\n",
    "                           mapbox_style=\"carto-positron\", zoom=10)\n",
    "\n",
    "fig.update_layout(margin={\"r\":0,\"t\":0,\"l\":0,\"b\":0})\n",
    "fig.show()"
   ]
  },
  {
   "cell_type": "markdown",
   "metadata": {},
   "source": [
    "### Plot Kim Percent Vote of Total Precinct"
   ]
  },
  {
   "cell_type": "code",
   "execution_count": null,
   "metadata": {},
   "outputs": [],
   "source": [
    "fig = px.choropleth_mapbox(df_votes_by_precinct, geojson=precinct_data, color=\"Percent Kim Votes\",\n",
    "                           locations=\"Precinct\", featureidkey=\"properties.Precinct\",\n",
    "                           center={\"lat\": 48.7519, \"lon\": -122.4787},\n",
    "                           mapbox_style=\"carto-positron\", zoom=10)\n",
    "\n",
    "fig.update_layout(margin={\"r\":0,\"t\":0,\"l\":0,\"b\":0})\n",
    "fig.show()"
   ]
  },
  {
   "cell_type": "markdown",
   "metadata": {},
   "source": [
    "## Plot the Outcome bewteen candidates as defined above"
   ]
  },
  {
   "cell_type": "code",
   "execution_count": null,
   "metadata": {},
   "outputs": [],
   "source": [
    "fig = px.choropleth_mapbox(df_votes_by_precinct, geojson=precinct_data, color=\"Outcome\",\n",
    "                           color_discrete_map={'Kim':'blue', 'Seth':'orange', 'Neutral': 'green'},\n",
    "                           locations=\"Precinct\", featureidkey=\"properties.Precinct\",\n",
    "                           opacity=0.6,\n",
    "                           center={\"lat\": 48.7519, \"lon\": -122.4787},\n",
    "                           mapbox_style=\"carto-positron\", zoom=10)\n",
    "\n",
    "fig.update_layout(margin={\"r\":0,\"t\":0,\"l\":0,\"b\":0})\n",
    "fig.show()"
   ]
  },
  {
   "cell_type": "markdown",
   "metadata": {},
   "source": [
    "## Matplotlib Analysis\n",
    "More customization allowed and nicer"
   ]
  },
  {
   "cell_type": "code",
   "execution_count": null,
   "metadata": {},
   "outputs": [],
   "source": [
    "geo_json_precinct_file"
   ]
  },
  {
   "cell_type": "code",
   "execution_count": null,
   "metadata": {},
   "outputs": [],
   "source": [
    "import geopandas as gpd\n",
    "import matplotlib.pyplot as plt\n",
    "\n",
    "# Load the GeoJSON file into a GeoDataFrame\n",
    "gdf = gpd.read_file(geo_json_precinct_file)\n",
    "\n",
    "gdf['Precinct'] = gdf['Precinct'].astype(int)\n",
    "\n",
    "# Plot the GeoDataFrame to visualize the precinct map\n",
    "fig, ax = plt.subplots(figsize=(10, 10))\n",
    "gdf.boundary.plot(ax=ax)\n",
    "plt.title('Precinct Map')\n",
    "plt.xlabel('Longitude')\n",
    "plt.ylabel('Latitude')\n",
    "plt.show()"
   ]
  },
  {
   "cell_type": "code",
   "execution_count": null,
   "metadata": {},
   "outputs": [],
   "source": [
    "# Merge the GeoDataFrame with the vote data DataFrame on the \"Precinct\" column\n",
    "merged_gdf = gdf.merge(df_votes_by_precinct, left_on='Precinct', right_on='Precinct', how='left')\n",
    "#TODO: For some reason integer columns are cast to float64"
   ]
  },
  {
   "cell_type": "code",
   "execution_count": null,
   "metadata": {},
   "outputs": [],
   "source": [
    "# Function to annotate each plot with further adjusted vertical positioning for better centering.  The function below is the simple version but\n",
    "# it does not account for spherical\n",
    "def annotate_precincts(ax, data, percentage_col):\n",
    "    for x, y, label, pct in zip(data.geometry.centroid.x, data.geometry.centroid.y, data['Precinct'], data[percentage_col]):\n",
    "        if not pd.isna(pct):  # Only annotate if the percentage is available\n",
    "            ax.text(x, y - 0.003, f\"{int(label)}\\n{pct:.1f}%\", fontsize=6, ha='center')\n",
    "\n",
    "import geopandas as gpd\n",
    "from shapely.geometry import Point\n",
    "\n",
    "# Updated function to account for sprehical coordinates and projection to flat geometry\n",
    "def annotate_precincts_new(ax, data, percentage_col):\n",
    "    # Transform to a projected CRS for accurate centroid calculation\n",
    "    data_projected = data.to_crs(epsg=2163)  # Replace with suitable EPSG code.   for data in the United States, a common choice is EPSG:2163 (US National Atlas Equal Area projection). You can find a suitable EPSG code from spatialreference.org or other CRS resources.\n",
    "\n",
    "    for x, y, label, pct in zip(data_projected.geometry.centroid.x, data_projected.geometry.centroid.y, data['Precinct'], data[percentage_col]):\n",
    "        if not pd.isna(pct):  # Only annotate if the percentage is available\n",
    "            # Convert the centroid coordinates back to the original CRS for plotting\n",
    "            point_original_crs = gpd.GeoSeries([Point(x, y)], crs=data_projected.crs).to_crs(data.crs).iloc[0]\n",
    "            ax.text(point_original_crs.x, point_original_crs.y - 0.003, f\"{int(label)}\\n{pct:.1f}%\", fontsize=6, ha='center')"
   ]
  },
  {
   "cell_type": "code",
   "execution_count": null,
   "metadata": {},
   "outputs": [],
   "source": [
    "\n",
    "# Convert the statistics dictionary to a string for display\n",
    "summary_text_seth = '\\n'.join([f'{key}: {value}' for key, value in election_summary_stats_seth.items()])\n",
    "summary_text_kim = '\\n'.join([f'{key}: {value}' for key, value in election_summary_stats_kim.items()])\n",
    "\n",
    "print(summary_text_seth)\n",
    "print(summary_text_kim)"
   ]
  },
  {
   "cell_type": "code",
   "execution_count": null,
   "metadata": {},
   "outputs": [],
   "source": [
    "import matplotlib.colors as colors\n",
    "import matplotlib.colors as mcolors\n",
    "\n",
    "# Define a custom colormap\n",
    "cmap = mcolors.LinearSegmentedColormap.from_list(\n",
    "    name='custom_blue_green',\n",
    "    colors=['blue', 'lightblue', 'lightgreen', 'green']\n",
    ")\n",
    "\n",
    "cmap = mcolors.LinearSegmentedColormap.from_list(\n",
    "    name='custom_cool_warm',\n",
    "    colors=['blue', 'lightblue', 'lightgreen', 'green']\n",
    ")\n",
    "\n",
    "# Extract 10 colors from the 'coolwarm' colormap\n",
    "my_coolwarm = plt.cm.get_cmap('BrBG', 10)\n",
    "\n",
    "# Print RGB and hex values\n",
    "for i in range(my_coolwarm.N):\n",
    "    rgba = my_coolwarm(i)\n",
    "    # Convert RGBA to RGB\n",
    "    rgb = tuple(int(255 * x) for x in rgba[:3])\n",
    "    # Convert RGB to hex\n",
    "    hex_color = '#{:02x}{:02x}{:02x}'.format(*rgb)\n",
    "    print(f\"Color {i}: RGB {rgb}, Hex {hex_color}\")\n",
    "    \n",
    "my_colors = [my_coolwarm(i) for i in range(my_coolwarm.N)]\n",
    "\n",
    "cmap = plt.colormaps['BrBG']\n",
    "\n",
    "# Get a light green color from the colormap\n",
    "# Adjust the value to get the desired shade of green\n",
    "kim_color = cmap(0.7)  \n",
    "seth_color = cmap(0.3)\n",
    "\n",
    "#print(my_colors)\n",
    "\n",
    "# Create a custom colormap with these colors\n",
    "#cmap = mcolors.LinearSegmentedColormap.from_list(\n",
    "#    name='custom_cool_warm',\n",
    "#    colors=colors\n",
    "#)\n",
    "\n",
    "cmap = 'BrBG'#'PuOr' #'seismic' #'BuGn' #'viridis' #'coolwarm'"
   ]
  },
  {
   "cell_type": "code",
   "execution_count": null,
   "metadata": {},
   "outputs": [],
   "source": [
    "# Create plots for each candidate with corrected column names and updated annotations\n",
    "# Further updated zoom-in parameters\n",
    "lat_min = 48.68\n",
    "lat_max = 48.85\n",
    "lon_min = -122.55\n",
    "lon_max = -122.37\n",
    "\n",
    "#cmap = 'coolwarm'\n",
    "vmin = merged_gdf[['Percent Kim Votes', 'Percent Seth Votes']].min().min()\n",
    "vmax = merged_gdf[['Percent Kim Votes', 'Percent Seth Votes']].max().max()\n",
    "\n",
    "# Columns to plot\n",
    "corrected_candidates = ['Percent Kim Votes', 'Percent Seth Votes']\n",
    "\n",
    "#fig, axs = plt.subplots(2, 2, figsize=(18, 18))\n",
    "fig, axs = plt.subplots(1, 2, figsize=(18, 8))\n",
    "\n",
    "# Add a subtitle to the overall figure\n",
    "fig.suptitle(\"2023 Bellingham Mayoral Race - 11/12/2023\", fontsize=16)\n",
    "fig.text(0.8, 0.01, 'Analysis By Gil Lund v.20231112-1', ha='center', va='bottom', fontsize=10)\n",
    "\n",
    "# ... [your existing code for setting up the plots] ...\n",
    "\n",
    "# Add the summary text box\n",
    "# You may need to adjust the x and y coordinates and the fontsize as needed\n",
    "\n",
    "\n",
    "# Flatten the array of axes for easy iteration\n",
    "axes = axs.flatten()\n",
    "\n",
    "data_precinct_border_color = '#A9A9A9'\n",
    "no_data_precinct_color = '#F5F5F5' #white smoke\n",
    "\n",
    "#Calibrate the color scale of the heatmap\n",
    "#norm = colors.Normalize(vmin=-35, vmax=35)\n",
    "\n",
    "# Create plots for each candidate\n",
    "for i, candidate in enumerate(corrected_candidates):\n",
    "    ax = axes[i]\n",
    "    merged_gdf.boundary.plot(ax=ax, linewidth=1, color=data_precinct_border_color)\n",
    "    merged_gdf.plot(column=candidate, ax=ax, legend=True,\n",
    "                    legend_kwds={'label': f\"{candidate.replace('Percent ', '')} by Precinct\"},\n",
    "                    cmap=cmap, vmin=vmin, vmax=vmax, missing_kwds={'color': no_data_precinct_color})\n",
    "    ax.set_xlim([lon_min, lon_max])\n",
    "    ax.set_ylim([lat_min, lat_max])\n",
    "    ax.tick_params(axis='both', which='major', labelsize=8)\n",
    "    ax.set_title(f\"{candidate.replace('Percent ', '% ')} by Precinct\")\n",
    "    ax.set_xlabel('Longitude')\n",
    "    ax.set_ylabel('Latitude')\n",
    "    print(candidate)\n",
    "    if candidate == 'Percent Kim Votes':\n",
    "        summary_text = summary_text_kim\n",
    "    if candidate == 'Percent Seth Votes':\n",
    "        summary_text = summary_text_seth\n",
    "    print(summary_text)\n",
    "    ax.text(0.65, 0.95, summary_text, transform=ax.transAxes, fontsize=12,\n",
    "        verticalalignment='top', bbox=dict(boxstyle=\"round,pad=0.5\", facecolor='white', edgecolor='black', alpha=0.5))\n",
    "    \n",
    "    # Annotate the plot with further adjusted vertical positioning\n",
    "    annotate_precincts_new(ax, merged_gdf, candidate)\n",
    "\n",
    "plt.tight_layout()\n",
    "\n",
    "plt.savefig(\"2023-mayoral-general-election.png\", dpi=600)\n",
    "plt.show()\n"
   ]
  },
  {
   "cell_type": "code",
   "execution_count": null,
   "metadata": {},
   "outputs": [],
   "source": [
    "# Create plots for each candidate with corrected column names and updated annotations\n",
    "import seaborn as sns\n",
    "\n",
    "# Columns to plot\n",
    "corrected_candidates = ['Percent Kim-Seth']\n",
    "\n",
    "vmin = merged_gdf['Percent Kim-Seth'].min()\n",
    "vmax = merged_gdf['Percent Kim-Seth'].max()\n",
    "\n",
    "# Set the overall figure size\n",
    "fig = plt.figure(figsize=(20, 10))\n",
    "fig.suptitle(\"2023 Bellingham Mayoral Race - 11/12/2023\", fontsize=16)\n",
    "fig.text(0.65, 0.12, 'Analysis By Gil Lund v.20231112-1', ha='center', va='bottom', fontsize=10)\n",
    "\n",
    "# Add first subplot for ax1 - takes full height\n",
    "ax1 = fig.add_subplot(121)\n",
    "\n",
    "data_precinct_border_color = '#A9A9A9'\n",
    "no_data_precinct_color = '#F5F5F5' #white smoke\n",
    "\n",
    "data_column = 'Percent Kim-Seth'\n",
    "\n",
    "#Calibrate the color scale of the heatmap\n",
    "norm = colors.Normalize(vmin=-35, vmax=35)\n",
    "\n",
    "merged_gdf.boundary.plot(ax=ax1, linewidth=1, color=data_precinct_border_color)\n",
    "merged_gdf.plot(column=data_column, ax=ax1, legend=True, norm=norm,\n",
    "                legend_kwds={'label': f\"{data_column.replace('Percent ', '')} by Precinct\", 'shrink': 0.7},\n",
    "                cmap=cmap, vmin=vmin, vmax=vmax, missing_kwds={'color': no_data_precinct_color})\n",
    "\n",
    "ax1.set_xlim([lon_min, lon_max])\n",
    "ax1.set_ylim([lat_min, lat_max])\n",
    "ax1.tick_params(axis='both', which='major', labelsize=8)\n",
    "ax1.set_title('Percent Difference (Kim-Seth) by Precinct')\n",
    "ax1.set_xlabel('Longitude')\n",
    "ax1.set_ylabel('Latitude')\n",
    "#ax1.legend(fontsize='medium')  # Adjust 'small' to 'x-small', 'medium', etc., as needed\n",
    "\n",
    "# Continue with your plotting code for ax1\n",
    "\n",
    "# Annotate the plot with further adjusted vertical positioning\n",
    "annotate_precincts_new(ax1, merged_gdf, data_column)\n",
    "\n",
    "# Box and whisker plot for 'Percent Kim-Seth' on the right side\n",
    "#sns.boxplot(y=merged_gdf[data_column], ax=ax2, color='lightblue')\n",
    "#ax2.set_title('Boxplot of Percent Kim-Seth')\n",
    "#ax2.set_ylabel('Percent Difference')\n",
    "\n",
    "ax2 = fig.add_axes([0.45, 0.2, 0.4, 0.55])  # Adjust these values as needed\n",
    "\n",
    "#sns.violinplot(y=merged_gdf[data_column], inner='point', color='lightblue')\n",
    "#sns.stripplot(y=merged_gdf[data_column], color='blue', jitter=True)\n",
    "sns.swarmplot(y=merged_gdf[data_column], color='blue', size=5)\n",
    "\n",
    "ax2.set_yticks(range(-35, 40, 5))  # This will create ticks at -35, -30, ..., 30, 35\n",
    "ax2.tick_params(axis='y', labelsize=12)  # Adjust the font size as needed\n",
    "ax2.grid(True, axis='y')\n",
    "\n",
    "#print(ax2.get_xlim()[0])\n",
    "#print(ax2.get_xlim()[1])\n",
    "ax2.set_xlim([-1, 1])\n",
    "\n",
    "ax2.fill_betweenx(y=[0, 35], x1=ax2.get_xlim()[0], x2=ax2.get_xlim()[1], color=kim_color, alpha=0.3)\n",
    "ax2.text(ax2.get_xlim()[1], 17.5, 'Kim', color='black', verticalalignment='center', horizontalalignment='right', size=10)\n",
    "\n",
    "ax2.fill_betweenx(y=[-35, 0], x1=ax2.get_xlim()[0], x2=ax2.get_xlim()[1], color=seth_color, alpha=0.3)\n",
    "ax2.text(ax2.get_xlim()[1], -17.5, 'Seth', color='black', verticalalignment='center', horizontalalignment='right', size=10)\n",
    "\n",
    "ax2.set_aspect(.1, adjustable='box')  # Adjust the aspect ratio and mode as needed\n",
    "\n",
    "plt.title('Swarm Plot of Percent Difference (Kim-Seth)')\n",
    "plt.ylabel('Percent Difference (Kim-Seth)')\n",
    "\n",
    "plt.tight_layout()\n",
    "\n",
    "plt.savefig(\"2023-mayoral-general-election-diff.png\", dpi=600)\n",
    "plt.show()"
   ]
  },
  {
   "cell_type": "code",
   "execution_count": null,
   "metadata": {},
   "outputs": [],
   "source": []
  }
 ],
 "metadata": {
  "kernelspec": {
   "display_name": "Python 3 (ipykernel)",
   "language": "python",
   "name": "python3"
  },
  "language_info": {
   "codemirror_mode": {
    "name": "ipython",
    "version": 3
   },
   "file_extension": ".py",
   "mimetype": "text/x-python",
   "name": "python",
   "nbconvert_exporter": "python",
   "pygments_lexer": "ipython3",
   "version": "3.12.0"
  }
 },
 "nbformat": 4,
 "nbformat_minor": 4
}
